{
 "cells": [
  {
   "cell_type": "code",
   "execution_count": 1,
   "id": "7b39d02d",
   "metadata": {},
   "outputs": [],
   "source": [
    "name=\"rafee\""
   ]
  },
  {
   "cell_type": "code",
   "execution_count": 3,
   "id": "d9264a59",
   "metadata": {},
   "outputs": [
    {
     "data": {
      "text/plain": [
       "'rafee'"
      ]
     },
     "execution_count": 3,
     "metadata": {},
     "output_type": "execute_result"
    }
   ],
   "source": [
    "name"
   ]
  },
  {
   "cell_type": "code",
   "execution_count": 5,
   "id": "3458384e",
   "metadata": {},
   "outputs": [
    {
     "name": "stdout",
     "output_type": "stream",
     "text": [
      "rafee\n"
     ]
    }
   ],
   "source": [
    "print(name)"
   ]
  },
  {
   "cell_type": "code",
   "execution_count": 6,
   "id": "96cf2995",
   "metadata": {},
   "outputs": [],
   "source": [
    "age=19"
   ]
  },
  {
   "cell_type": "code",
   "execution_count": 7,
   "id": "48d0850d",
   "metadata": {},
   "outputs": [
    {
     "name": "stdout",
     "output_type": "stream",
     "text": [
      "19\n"
     ]
    }
   ],
   "source": [
    "print(age)"
   ]
  },
  {
   "cell_type": "code",
   "execution_count": null,
   "id": "722ecde0",
   "metadata": {},
   "outputs": [],
   "source": []
  }
 ],
 "metadata": {
  "kernelspec": {
   "display_name": "Python 3 (ipykernel)",
   "language": "python",
   "name": "python3"
  },
  "language_info": {
   "codemirror_mode": {
    "name": "ipython",
    "version": 3
   },
   "file_extension": ".py",
   "mimetype": "text/x-python",
   "name": "python",
   "nbconvert_exporter": "python",
   "pygments_lexer": "ipython3",
   "version": "3.10.9"
  }
 },
 "nbformat": 4,
 "nbformat_minor": 5
}
